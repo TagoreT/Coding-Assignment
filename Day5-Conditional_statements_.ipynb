{
  "nbformat": 4,
  "nbformat_minor": 0,
  "metadata": {
    "colab": {
      "provenance": [],
      "authorship_tag": "ABX9TyMzbwIKAV+FQ7Vf9kKfA6Mu",
      "include_colab_link": true
    },
    "kernelspec": {
      "name": "python3",
      "display_name": "Python 3"
    },
    "language_info": {
      "name": "python"
    }
  },
  "cells": [
    {
      "cell_type": "markdown",
      "metadata": {
        "id": "view-in-github",
        "colab_type": "text"
      },
      "source": [
        "<a href=\"https://colab.research.google.com/github/TagoreT/Coding-Assignment/blob/main/Day5-Conditional_statements_.ipynb\" target=\"_parent\"><img src=\"https://colab.research.google.com/assets/colab-badge.svg\" alt=\"Open In Colab\"/></a>"
      ]
    },
    {
      "cell_type": "markdown",
      "source": [
        "1. if\n",
        "2. if - else\n",
        "3. nested if\n",
        "4. elif"
      ],
      "metadata": {
        "id": "RbtCdYdWe7h3"
      }
    },
    {
      "cell_type": "code",
      "execution_count": null,
      "metadata": {
        "id": "mj9ikniwevsr"
      },
      "outputs": [],
      "source": [
        "if condition:\n",
        "  #code block\n"
      ]
    },
    {
      "cell_type": "code",
      "source": [
        "age = int(input(\"Enter your age: \"))\n",
        "\n",
        "if age >= 18:\n",
        "  print(\"You are eligible to vote\")\n",
        "\n",
        "print('End of code')"
      ],
      "metadata": {
        "colab": {
          "base_uri": "https://localhost:8080/"
        },
        "id": "kSltqnWWfsK2",
        "outputId": "3884e2cf-20cc-4b7d-94b7-cf8c3d1dc514"
      },
      "execution_count": 7,
      "outputs": [
        {
          "output_type": "stream",
          "name": "stdout",
          "text": [
            "Enter your age: 16\n",
            "End of code\n"
          ]
        }
      ]
    },
    {
      "cell_type": "code",
      "source": [
        "age = int(input(\"Enter your age: \"))\n",
        "\n",
        "if age >= 18:\n",
        "  print(\"You are eligible to vote\")\n",
        "else:\n",
        "  print(\"You are not eligible to vote\")\n",
        "\n",
        "print('End of code')"
      ],
      "metadata": {
        "colab": {
          "base_uri": "https://localhost:8080/"
        },
        "id": "ttM8g4b9g_IT",
        "outputId": "f3157a46-dbb2-4314-f507-716e666bd741"
      },
      "execution_count": 6,
      "outputs": [
        {
          "output_type": "stream",
          "name": "stdout",
          "text": [
            "Enter your age: 16\n",
            "You are not eligible to vote\n",
            "End of code\n"
          ]
        }
      ]
    },
    {
      "cell_type": "code",
      "source": [
        "age = int(input(\"Enter your age: \"))\n",
        "\n",
        "result = \"You are eligible to vote\" if age >= 18 else \"You are not eligible to vote\"\n",
        "\n",
        "print(result)\n",
        "print('End of code')"
      ],
      "metadata": {
        "colab": {
          "base_uri": "https://localhost:8080/"
        },
        "id": "rBhp04RqlK9l",
        "outputId": "2b8482e7-43f1-43b0-b976-7874e1554e9b"
      },
      "execution_count": 12,
      "outputs": [
        {
          "output_type": "stream",
          "name": "stdout",
          "text": [
            "Enter your age: 16\n",
            "You are not eligible to vote\n",
            "End of code\n"
          ]
        }
      ]
    },
    {
      "cell_type": "code",
      "source": [
        "marks = int(input(\"Enter your marks: \"))\n",
        "\n",
        "if marks >= 90:\n",
        "  print(\"Grade A\")\n",
        "elif marks >= 80:\n",
        "  print(\"Grade B\")\n",
        "elif marks >= 70:\n",
        "  print(\"Grade C\")\n",
        "else:\n",
        "  print(\"Grade D\")\n",
        "\n",
        "print('End of code')"
      ],
      "metadata": {
        "colab": {
          "base_uri": "https://localhost:8080/"
        },
        "id": "jdBwaM2nhqg3",
        "outputId": "fcf5ec81-ad39-41b1-da84-ec3d85c473cf"
      },
      "execution_count": 9,
      "outputs": [
        {
          "output_type": "stream",
          "name": "stdout",
          "text": [
            "Enter your marks: 50\n",
            "Grade D\n",
            "End of code\n"
          ]
        }
      ]
    },
    {
      "cell_type": "code",
      "source": [
        "age = int(input(\"Enter your age: \"))\n",
        "nationality = input(\"Enter your nationality: \")\n",
        "\n",
        "if age >= 18:\n",
        "  print(\"Your age is ok\")\n",
        "  if nationality == 'india':\n",
        "    print(\"You are Indian\")\n",
        "    print(\"You are eligible to vote\")\n",
        "  else:\n",
        "    print(\"You are not Indian\")\n",
        "    print(\"You are not eligible to vote\")\n",
        "else:\n",
        "  print(\"You are not eligible to vote\")\n",
        "\n",
        "print('End of code')"
      ],
      "metadata": {
        "colab": {
          "base_uri": "https://localhost:8080/"
        },
        "id": "y9D5ukKBi43s",
        "outputId": "5276b687-dcba-402b-9741-3e9c8797737e"
      },
      "execution_count": 11,
      "outputs": [
        {
          "output_type": "stream",
          "name": "stdout",
          "text": [
            "Enter your age: 20\n",
            "Enter your nationality: uk\n",
            "Your age is ok\n",
            "You are not Indian\n",
            "You are not eligible to vote\n",
            "End of code\n"
          ]
        }
      ]
    },
    {
      "cell_type": "code",
      "source": [
        "# logical operators AND OR NOT\n",
        "age = int(input(\"Enter your age: \"))\n",
        "nationality = input(\"Enter your nationality: \")\n",
        "\n",
        "if age >= 18 and nationality == 'india':\n",
        "  print(\"You are eligible to vote\")\n",
        "else:\n",
        "  print(\"You are not eligible to vote\")\n",
        "\n",
        "print('End of code')"
      ],
      "metadata": {
        "colab": {
          "base_uri": "https://localhost:8080/"
        },
        "id": "OO0LuaWrkwUB",
        "outputId": "1b0852b9-d39b-4e0d-92f6-126c3ddef960"
      },
      "execution_count": 16,
      "outputs": [
        {
          "output_type": "stream",
          "name": "stdout",
          "text": [
            "Enter your age: 18\n",
            "Enter your nationality: india\n",
            "You are eligible to vote\n",
            "End of code\n"
          ]
        }
      ]
    },
    {
      "cell_type": "code",
      "source": [
        "#system login username, password\n"
      ],
      "metadata": {
        "id": "qe_8Pxr_nt8-"
      },
      "execution_count": null,
      "outputs": []
    }
  ]
}